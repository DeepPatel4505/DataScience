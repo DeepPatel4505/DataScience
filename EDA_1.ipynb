{
 "cells": [
  {
   "cell_type": "markdown",
   "id": "de2ffae1",
   "metadata": {},
   "source": [
    "# Understanding the data"
   ]
  },
  {
   "cell_type": "markdown",
   "id": "3fd47e47",
   "metadata": {},
   "source": [
    "* Getting raw data"
   ]
  },
  {
   "cell_type": "code",
   "execution_count": null,
   "id": "f95cf849",
   "metadata": {},
   "outputs": [],
   "source": [
    "%pip install pandas"
   ]
  },
  {
   "cell_type": "code",
   "execution_count": 3,
   "id": "351ce360",
   "metadata": {},
   "outputs": [],
   "source": [
    "import pandas as pd"
   ]
  },
  {
   "cell_type": "code",
   "execution_count": 4,
   "id": "17521b98",
   "metadata": {},
   "outputs": [],
   "source": [
    "df = pd.read_csv(\"Titanic/Titanic-Dataset.csv\")"
   ]
  },
  {
   "cell_type": "markdown",
   "id": "e8941014",
   "metadata": {},
   "source": [
    "# Questions to ask before starting"
   ]
  },
  {
   "cell_type": "markdown",
   "id": "9741ffd6",
   "metadata": {},
   "source": [
    "<h3>1. How big is the data?</h3>"
   ]
  },
  {
   "cell_type": "code",
   "execution_count": 5,
   "id": "83693a2e",
   "metadata": {},
   "outputs": [
    {
     "data": {
      "text/plain": [
       "(891, 12)"
      ]
     },
     "execution_count": 5,
     "metadata": {},
     "output_type": "execute_result"
    }
   ],
   "source": [
    "df.shape"
   ]
  },
  {
   "cell_type": "markdown",
   "id": "ae29540d",
   "metadata": {},
   "source": [
    "So there are 891 rows and 12 columns"
   ]
  },
  {
   "cell_type": "code",
   "execution_count": 6,
   "id": "7b487ceb",
   "metadata": {},
   "outputs": [
    {
     "data": {
      "text/html": [
       "<div>\n",
       "<style scoped>\n",
       "    .dataframe tbody tr th:only-of-type {\n",
       "        vertical-align: middle;\n",
       "    }\n",
       "\n",
       "    .dataframe tbody tr th {\n",
       "        vertical-align: top;\n",
       "    }\n",
       "\n",
       "    .dataframe thead th {\n",
       "        text-align: right;\n",
       "    }\n",
       "</style>\n",
       "<table border=\"1\" class=\"dataframe\">\n",
       "  <thead>\n",
       "    <tr style=\"text-align: right;\">\n",
       "      <th></th>\n",
       "      <th>PassengerId</th>\n",
       "      <th>Survived</th>\n",
       "      <th>Pclass</th>\n",
       "      <th>Name</th>\n",
       "      <th>Sex</th>\n",
       "      <th>Age</th>\n",
       "      <th>SibSp</th>\n",
       "      <th>Parch</th>\n",
       "      <th>Ticket</th>\n",
       "      <th>Fare</th>\n",
       "      <th>Cabin</th>\n",
       "      <th>Embarked</th>\n",
       "    </tr>\n",
       "  </thead>\n",
       "  <tbody>\n",
       "    <tr>\n",
       "      <th>630</th>\n",
       "      <td>631</td>\n",
       "      <td>1</td>\n",
       "      <td>1</td>\n",
       "      <td>Barkworth, Mr. Algernon Henry Wilson</td>\n",
       "      <td>male</td>\n",
       "      <td>80.0</td>\n",
       "      <td>0</td>\n",
       "      <td>0</td>\n",
       "      <td>27042</td>\n",
       "      <td>30.0000</td>\n",
       "      <td>A23</td>\n",
       "      <td>S</td>\n",
       "    </tr>\n",
       "    <tr>\n",
       "      <th>550</th>\n",
       "      <td>551</td>\n",
       "      <td>1</td>\n",
       "      <td>1</td>\n",
       "      <td>Thayer, Mr. John Borland Jr</td>\n",
       "      <td>male</td>\n",
       "      <td>17.0</td>\n",
       "      <td>0</td>\n",
       "      <td>2</td>\n",
       "      <td>17421</td>\n",
       "      <td>110.8833</td>\n",
       "      <td>C70</td>\n",
       "      <td>C</td>\n",
       "    </tr>\n",
       "    <tr>\n",
       "      <th>22</th>\n",
       "      <td>23</td>\n",
       "      <td>1</td>\n",
       "      <td>3</td>\n",
       "      <td>McGowan, Miss. Anna \"Annie\"</td>\n",
       "      <td>female</td>\n",
       "      <td>15.0</td>\n",
       "      <td>0</td>\n",
       "      <td>0</td>\n",
       "      <td>330923</td>\n",
       "      <td>8.0292</td>\n",
       "      <td>NaN</td>\n",
       "      <td>Q</td>\n",
       "    </tr>\n",
       "    <tr>\n",
       "      <th>27</th>\n",
       "      <td>28</td>\n",
       "      <td>0</td>\n",
       "      <td>1</td>\n",
       "      <td>Fortune, Mr. Charles Alexander</td>\n",
       "      <td>male</td>\n",
       "      <td>19.0</td>\n",
       "      <td>3</td>\n",
       "      <td>2</td>\n",
       "      <td>19950</td>\n",
       "      <td>263.0000</td>\n",
       "      <td>C23 C25 C27</td>\n",
       "      <td>S</td>\n",
       "    </tr>\n",
       "    <tr>\n",
       "      <th>628</th>\n",
       "      <td>629</td>\n",
       "      <td>0</td>\n",
       "      <td>3</td>\n",
       "      <td>Bostandyeff, Mr. Guentcho</td>\n",
       "      <td>male</td>\n",
       "      <td>26.0</td>\n",
       "      <td>0</td>\n",
       "      <td>0</td>\n",
       "      <td>349224</td>\n",
       "      <td>7.8958</td>\n",
       "      <td>NaN</td>\n",
       "      <td>S</td>\n",
       "    </tr>\n",
       "  </tbody>\n",
       "</table>\n",
       "</div>"
      ],
      "text/plain": [
       "     PassengerId  Survived  Pclass                                  Name  \\\n",
       "630          631         1       1  Barkworth, Mr. Algernon Henry Wilson   \n",
       "550          551         1       1           Thayer, Mr. John Borland Jr   \n",
       "22            23         1       3           McGowan, Miss. Anna \"Annie\"   \n",
       "27            28         0       1        Fortune, Mr. Charles Alexander   \n",
       "628          629         0       3             Bostandyeff, Mr. Guentcho   \n",
       "\n",
       "        Sex   Age  SibSp  Parch  Ticket      Fare        Cabin Embarked  \n",
       "630    male  80.0      0      0   27042   30.0000          A23        S  \n",
       "550    male  17.0      0      2   17421  110.8833          C70        C  \n",
       "22   female  15.0      0      0  330923    8.0292          NaN        Q  \n",
       "27     male  19.0      3      2   19950  263.0000  C23 C25 C27        S  \n",
       "628    male  26.0      0      0  349224    7.8958          NaN        S  "
      ]
     },
     "execution_count": 6,
     "metadata": {},
     "output_type": "execute_result"
    }
   ],
   "source": [
    "# df.head()  -- might make bias toughts in our mind\n",
    "\n",
    "df.sample(5)"
   ]
  },
  {
   "cell_type": "markdown",
   "id": "873a8c58",
   "metadata": {},
   "source": [
    "<h3>3. What are the DataTypes ?</h3>"
   ]
  },
  {
   "cell_type": "code",
   "execution_count": null,
   "id": "2afd66e0",
   "metadata": {},
   "outputs": [],
   "source": [
    "df.info()"
   ]
  },
  {
   "cell_type": "markdown",
   "id": "4611ab7c",
   "metadata": {},
   "source": [
    "<h3>4. Are there any missing values? </h3>"
   ]
  },
  {
   "cell_type": "code",
   "execution_count": null,
   "id": "60a0c02f",
   "metadata": {},
   "outputs": [],
   "source": [
    "df.isnull().sum()"
   ]
  },
  {
   "cell_type": "markdown",
   "id": "fbbca3e0",
   "metadata": {},
   "source": [
    "<h3>5. How does the data look like Mathematically ?</h3>"
   ]
  },
  {
   "cell_type": "code",
   "execution_count": null,
   "id": "7636ea55",
   "metadata": {},
   "outputs": [],
   "source": [
    "df.describe()"
   ]
  },
  {
   "cell_type": "markdown",
   "id": "772f3b8c",
   "metadata": {},
   "source": [
    "<h3>6. Are there any duplicate values ?</h3>"
   ]
  },
  {
   "cell_type": "code",
   "execution_count": null,
   "id": "06a43e36",
   "metadata": {},
   "outputs": [],
   "source": [
    "df.duplicated().sum()"
   ]
  },
  {
   "cell_type": "markdown",
   "id": "0496c790",
   "metadata": {},
   "source": [
    "<h3>7. How is the correlation between columns ?</h3>"
   ]
  },
  {
   "cell_type": "code",
   "execution_count": null,
   "id": "cddbcc69",
   "metadata": {},
   "outputs": [],
   "source": [
    "# df.select_dtypes(include='number').corr()\n",
    "df.select_dtypes(include='number').corr()['Survived']"
   ]
  }
 ],
 "metadata": {
  "kernelspec": {
   "display_name": ".venv",
   "language": "python",
   "name": "python3"
  },
  "language_info": {
   "codemirror_mode": {
    "name": "ipython",
    "version": 3
   },
   "file_extension": ".py",
   "mimetype": "text/x-python",
   "name": "python",
   "nbconvert_exporter": "python",
   "pygments_lexer": "ipython3",
   "version": "3.13.1"
  }
 },
 "nbformat": 4,
 "nbformat_minor": 5
}
